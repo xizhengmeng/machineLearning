{
 "cells": [
  {
   "cell_type": "code",
   "execution_count": 11,
   "metadata": {},
   "outputs": [
    {
     "name": "stdout",
     "output_type": "stream",
     "text": [
      "没法用 1.22912397395\n",
      "版本 0.758170953823\n",
      "软件 0.735102690974\n",
      "逻辑 0.703687426052\n",
      "清楚 0.564953551289\n",
      "根本 0.55301300409\n",
      "以前 0.529145237511\n",
      "非常 0.490328300634\n",
      "很多 0.485828267085\n",
      "现在 0.39537475416\n"
     ]
    }
   ],
   "source": [
    "import jieba,os,sys\n",
    "import jieba.analyse\n",
    "from ipykernel import kernelapp as app\n",
    "\n",
    "def stopwordslist(filepath):\n",
    "    lines = open(filepath, 'r').readlines()\n",
    "    stopwords = [line.strip() for line in lines]  \n",
    "    return stopwords  \n",
    "\n",
    "stopwords = stopwordslist('appstore/stopwords.txt')  # 这里加载停用词的路径\n",
    "\n",
    "jieba.load_userdict('appstore/customdict.txt')\n",
    "\n",
    "seg_list = jieba.cut(\"他来到了网易杭研大厦\")  # 默认是精确模式\n",
    "\n",
    "# for item in seg_list:\n",
    "#     if item not in stopwords:\n",
    "#         print item\n",
    "\n",
    "keywords = jieba.analyse.extract_tags(\"以前的软件版本根本没法用，现在好很多了，逻辑非常清楚\", topK=20, withWeight=True, allowPOS=())\n",
    "\n",
    "for item in keywords:\n",
    "    print item[0],item[1]"
   ]
  },
  {
   "cell_type": "code",
   "execution_count": null,
   "metadata": {},
   "outputs": [],
   "source": []
  }
 ],
 "metadata": {
  "kernelspec": {
   "display_name": "Python 2",
   "language": "python",
   "name": "python2"
  },
  "language_info": {
   "codemirror_mode": {
    "name": "ipython",
    "version": 2
   },
   "file_extension": ".py",
   "mimetype": "text/x-python",
   "name": "python",
   "nbconvert_exporter": "python",
   "pygments_lexer": "ipython2",
   "version": "2.7.10"
  }
 },
 "nbformat": 4,
 "nbformat_minor": 2
}
