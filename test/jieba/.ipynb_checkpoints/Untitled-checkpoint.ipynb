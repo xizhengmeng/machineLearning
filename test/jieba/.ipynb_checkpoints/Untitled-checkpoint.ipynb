{
 "cells": [
  {
   "cell_type": "code",
   "execution_count": 25,
   "metadata": {},
   "outputs": [],
   "source": [
    "import jieba,os,sys\n",
    "\n",
    "# def stopwordslist(filepath):\n",
    "#     lines = open(filepath, 'r').readlines()\n",
    "#     for line in lines:\n",
    "#         print line\n",
    "#     stopwords = [line.strip() for line in ]  \n",
    "#     return stopwords  \n",
    "\n",
    "print 'ceshi'\n",
    "# stopwords = stopwordslist('appstore/stopwords.txt')  # 这里加载停用词的路径\n",
    "\n",
    "# jieba.load_userdict('appstore/customdict.txt')\n",
    "\n",
    "# seg_list = jieba.cut(\"他来到了网易杭研大厦\")  # 默认是精确模式\n",
    "\n",
    "# for item in seg_list:\n",
    "#     print item\n",
    "\n",
    "    "
   ]
  },
  {
   "cell_type": "code",
   "execution_count": null,
   "metadata": {},
   "outputs": [],
   "source": []
  }
 ],
 "metadata": {
  "kernelspec": {
   "display_name": "Python 2",
   "language": "python",
   "name": "python2"
  },
  "language_info": {
   "codemirror_mode": {
    "name": "ipython",
    "version": 2
   },
   "file_extension": ".py",
   "mimetype": "text/x-python",
   "name": "python",
   "nbconvert_exporter": "python",
   "pygments_lexer": "ipython2",
   "version": "2.7.10"
  }
 },
 "nbformat": 4,
 "nbformat_minor": 2
}
